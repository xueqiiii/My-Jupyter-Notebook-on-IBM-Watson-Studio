{
 "cells": [
  {
   "cell_type": "markdown",
   "metadata": {},
   "source": [
    "<center>\n",
    "    <img src=\"https://cf-courses-data.s3.us.cloud-object-storage.appdomain.cloud/IBMDeveloperSkillsNetwork-DS0105EN-SkillsNetwork/labs/Module2/images/SN_web_lightmode.png\" width=\"300\" alt=\"cognitiveclass.ai logo\"  />\n",
    "</center>\n"
   ]
  },
  {
   "cell_type": "markdown",
   "metadata": {},
   "source": [
    "#### Add your code below following the instructions given in the course\n"
   ]
  },
  {
   "cell_type": "markdown",
   "metadata": {},
   "source": [
    "# My Jupyter Notebook on IBM Watson Studio"
   ]
  },
  {
   "cell_type": "markdown",
   "metadata": {},
   "source": [
    "**Dong Xueqi**  \n",
    "Data Analyst/Scientist"
   ]
  },
  {
   "cell_type": "markdown",
   "metadata": {},
   "source": [
    "*I am interested in Data Science because the process behind deriving key corporate decision making is extremely intriguing. I would love to able to master the skills needed to play a role in coming up with those insights.*"
   ]
  },
  {
   "cell_type": "markdown",
   "metadata": {},
   "source": [
    "### The following code will print the text 'Hello World'."
   ]
  },
  {
   "cell_type": "code",
   "execution_count": 2,
   "metadata": {},
   "outputs": [
    {
     "name": "stdout",
     "output_type": "stream",
     "text": [
      "Hello World!\n"
     ]
    }
   ],
   "source": [
    "print(\"Hello World!\")"
   ]
  },
  {
   "cell_type": "markdown",
   "metadata": {},
   "source": [
    "#### Table with 3 columns and 5 rows:  \n",
    "| This | is a |Header|\n",
    "|:----:|:----:|:----:|\n",
    "| IBM | Data | Science |\n",
    "| Skills | Network | Labs |\n",
    "| Jupyter | Notebook | Python |  \n",
    "  \n",
    "---  \n",
    "\n",
    "#### Lists:  \n",
    "* This is a bulleted list.  \n",
    "1. This is a numbered list.  \n",
    "2. This is a numbered list.  \n",
    "  \n",
    "---  \n",
    "\n",
    "#### Strikethrough:  \n",
    "This is an example of ~~strikethrough text~~.  \n",
    "  \n",
    "--- \n",
    "\n",
    "#### Blocked Quotes & Image:  \n",
    "> Block quotes are handy in emails and reports.  \n",
    "> It draws attention to highlight/quoted text.  \n",
    "\n",
    "![alt text][logo]\n",
    "\n",
    "[logo]: https://www.ibm.com/design/language/4d516b7c6b76e48f285cd6f396073869/rebus-totem-positive.svg \"IBM Logo\""
   ]
  },
  {
   "cell_type": "code",
   "execution_count": null,
   "metadata": {},
   "outputs": [],
   "source": []
  }
 ],
 "metadata": {
  "kernelspec": {
   "display_name": "Python",
   "language": "python",
   "name": "conda-env-python-py"
  },
  "language_info": {
   "codemirror_mode": {
    "name": "ipython",
    "version": 3
   },
   "file_extension": ".py",
   "mimetype": "text/x-python",
   "name": "python",
   "nbconvert_exporter": "python",
   "pygments_lexer": "ipython3",
   "version": "3.7.12"
  }
 },
 "nbformat": 4,
 "nbformat_minor": 4
}
